{
  "nbformat": 4,
  "nbformat_minor": 0,
  "metadata": {
    "colab": {
      "provenance": [],
      "authorship_tag": "ABX9TyNoT+yEfWEuH8o2kESoqfhX",
      "include_colab_link": true
    },
    "kernelspec": {
      "name": "python3",
      "display_name": "Python 3"
    },
    "language_info": {
      "name": "python"
    }
  },
  "cells": [
    {
      "cell_type": "markdown",
      "metadata": {
        "id": "view-in-github",
        "colab_type": "text"
      },
      "source": [
        "<a href=\"https://colab.research.google.com/github/jhauser6129/PEASS-ng/blob/master/Josh.ipynb\" target=\"_parent\"><img src=\"https://colab.research.google.com/assets/colab-badge.svg\" alt=\"Open In Colab\"/></a>"
      ]
    },
    {
      "cell_type": "code",
      "source": [
        "import subprocess\n",
        "\n",
        "def find_pid_by_port(port):\n",
        "    \"\"\"Find the PID of the process using the specified port.\"\"\"\n",
        "    try:\n",
        "        # Run the netstat command to find the PID\n",
        "        netstat_output = subprocess.check_output(\n",
        "            ['netstat', '-ano'], stderr=subprocess.STDOUT, text=True\n",
        "        )\n",
        "\n",
        "        # Parse the output\n",
        "        for line in netstat_output.splitlines():\n",
        "            if f\":{port} \" in line:\n",
        "                parts = line.split()\n",
        "                pid = parts[-1]\n",
        "                return int(pid)\n",
        "        return None\n",
        "    except subprocess.CalledProcessError as e:\n",
        "        print(f\"Error executing netstat: {e}\")\n",
        "        return None\n",
        "\n",
        "def kill_process_by_pid(pid):\n",
        "    \"\"\"Terminate the process with the specified PID.\"\"\"\n",
        "\n"
      ],
      "metadata": {
        "id": "6pRZ1onJWXBl"
      },
      "execution_count": null,
      "outputs": []
    },
    {
      "cell_type": "code",
      "source": [
        "import socket\n",
        "from concurrent.futures import ThreadPoolExecutor\n",
        "\n",
        "def scan_port(ip, port):\n",
        "    \"\"\"Attempt to connect to a specific port on a given IP address.\"\"\"\n",
        "    with socket.socket(socket.AF_INET, socket.SOCK_STREAM) as sock:\n",
        "        sock.settimeout(1)  # Set timeout to 1 second\n",
        "        try:\n",
        "            sock.connect((ip, port))\n",
        "            return port, True\n",
        "        except (socket.timeout, ConnectionRefusedError):\n",
        "            return port, False\n",
        "\n",
        "def scan_ports(ip, start_port, end_port, max_workers=100):\n",
        "    \"\"\"Scan a range of ports on the given IP address.\"\"\"\n",
        "    open_ports = []\n",
        "    with ThreadPoolExecutor(max_workers=max_workers) as executor:\n",
        "        future_to_port = {executor.submit(scan_port, ip, port): port for port in range(start_port, end_port + 1)}\n",
        "        for future in future_to_port:\n",
        "            port, is_open = future.result()\n",
        "            if is_open:\n",
        "                open_ports.append(port)\n",
        "    return open_ports\n",
        "\n",
        "if __name__ == \"__main__\":\n",
        "    target_ip = input(\"Enter the IP address to scan: \")\n",
        "    start_port = int(input(\"Enter the start port: \"))\n",
        "    end_port = int(input(\"Enter the end port: \"))\n",
        "\n",
        "    print(f\"Scanning {target_ip} for open ports from {start_port} to {end_port}...\")\n",
        "    open_ports = scan_ports(target_ip, start_port, end_port)\n",
        "\n",
        "    if open_ports:\n",
        "        print(f\"Open ports on {target_ip}: {', '.join(map(str, open_ports))}\")\n",
        "    else:\n",
        "        print(f\"No open ports found on {target_ip} in the range {start_port}-{end_port}.\")\n"
      ],
      "metadata": {
        "id": "PFkPPDGEjf8y",
        "colab": {
          "base_uri": "https://localhost:8080/"
        },
        "outputId": "dfc0d3ee-35f6-4875-eeaf-6c4f72af21e1"
      },
      "execution_count": 1,
      "outputs": [
        {
          "output_type": "stream",
          "name": "stdout",
          "text": [
            "Enter the IP address to scan: 192.168.1.1\n",
            "Enter the start port: 1\n",
            "Enter the end port: 64000\n",
            "Scanning 192.168.1.1 for open ports from 1 to 64000...\n",
            "No open ports found on 192.168.1.1 in the range 1-64000.\n"
          ]
        }
      ]
    }
  ]
}